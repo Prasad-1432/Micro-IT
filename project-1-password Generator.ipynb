{
 "cells": [
  {
   "cell_type": "code",
   "execution_count": 3,
   "id": "c89da2ed",
   "metadata": {},
   "outputs": [
    {
     "name": "stdout",
     "output_type": "stream",
     "text": [
      "🔐 Password Generator\n",
      "Enter password length: 8\n",
      "Include uppercase letters? (y/n): y\n",
      "Include lowercase letters? (y/n): y\n",
      "Include digits? (y/n): y\n",
      "Include special characters? (y/n): y\n",
      "\n",
      "Generated Password: dmC%P+4d\n"
     ]
    }
   ],
   "source": [
    "import random\n",
    "import string\n",
    "\n",
    "def generate_password(length=12, use_upper=True, use_lower=True, use_digits=True, use_special=True):\n",
    "    characters = \"\"\n",
    "\n",
    "    if use_upper:\n",
    "        characters += string.ascii_uppercase\n",
    "    if use_lower:\n",
    "        characters += string.ascii_lowercase\n",
    "    if use_digits:\n",
    "        characters += string.digits\n",
    "    if use_special:\n",
    "        characters += string.punctuation\n",
    "\n",
    "    if not characters:\n",
    "        return \"Error: No character types selected!\"\n",
    "\n",
    "    # Generate password\n",
    "    password = ''.join(random.choice(characters) for _ in range(length))\n",
    "    return password\n",
    "\n",
    "# User input\n",
    "print(\"🔐 Password Generator\")\n",
    "length = int(input(\"Enter password length: \"))\n",
    "use_upper = input(\"Include uppercase letters? (y/n): \").lower() == 'y'\n",
    "use_lower = input(\"Include lowercase letters? (y/n): \").lower() == 'y'\n",
    "use_digits = input(\"Include digits? (y/n): \").lower() == 'y'\n",
    "use_special = input(\"Include special characters? (y/n): \").lower() == 'y'\n",
    "\n",
    "# Generate and show password\n",
    "password = generate_password(length, use_upper, use_lower, use_digits, use_special)\n",
    "print(f\"\\nGenerated Password: {password}\")"
   ]
  },
  {
   "cell_type": "code",
   "execution_count": null,
   "id": "bd76d1df",
   "metadata": {},
   "outputs": [],
   "source": []
  }
 ],
 "metadata": {
  "kernelspec": {
   "display_name": "Python 3 (ipykernel)",
   "language": "python",
   "name": "python3"
  },
  "language_info": {
   "codemirror_mode": {
    "name": "ipython",
    "version": 3
   },
   "file_extension": ".py",
   "mimetype": "text/x-python",
   "name": "python",
   "nbconvert_exporter": "python",
   "pygments_lexer": "ipython3",
   "version": "3.11.5"
  }
 },
 "nbformat": 4,
 "nbformat_minor": 5
}
